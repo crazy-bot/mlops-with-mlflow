{
 "cells": [
  {
   "cell_type": "code",
   "execution_count": 1,
   "metadata": {},
   "outputs": [
    {
     "data": {
      "text/plain": [
       "'C:\\\\Users\\\\SGU\\\\Projects\\\\mlops-with-mlflow'"
      ]
     },
     "execution_count": 1,
     "metadata": {},
     "output_type": "execute_result"
    }
   ],
   "source": [
    "import os\n",
    "os.chdir(r\"C:\\Users\\SGU\\Projects\\mlops-with-mlflow\")\n",
    "%pwd"
   ]
  },
  {
   "cell_type": "code",
   "execution_count": 5,
   "metadata": {},
   "outputs": [
    {
     "name": "stdout",
     "output_type": "stream",
     "text": [
      "[2023-08-12 14:29:40,358: DEBUG: connectionpool: https://dagshub.com:443 \"POST /crazy-bot/mlops-with-mlflow.mlflow/api/2.0/mlflow/runs/search HTTP/1.1\" 200 None]\n",
      "[2023-08-12 14:29:40,564: DEBUG: connectionpool: https://dagshub.com:443 \"GET /crazy-bot/mlops-with-mlflow.mlflow/api/2.0/mlflow/model-versions/search?filter=name%3D%27ElasticNet%27&max_results=10000 HTTP/1.1\" 200 None]\n",
      "<ModelVersion: aliases=[], creation_timestamp=1691837096537, current_stage='Production', description='', last_updated_timestamp=1691843201469, name='ElasticNet', run_id='72dd3a29b856452e81dc6cccf215df62', run_link='', source='mlflow-artifacts:/fc26881db9aa4a1f9db986531e56014f/72dd3a29b856452e81dc6cccf215df62/artifacts/model', status='READY', status_message='', tags={}, user_id='', version='4'>\n",
      "<ModelVersion: aliases=[], creation_timestamp=1691837096537, current_stage='Production', description='', last_updated_timestamp=1691843201469, name='ElasticNet', run_id='72dd3a29b856452e81dc6cccf215df62', run_link='', source='mlflow-artifacts:/fc26881db9aa4a1f9db986531e56014f/72dd3a29b856452e81dc6cccf215df62/artifacts/model', status='READY', status_message='', tags={}, user_id='', version='4'>\n",
      "[2023-08-12 14:29:40,817: DEBUG: connectionpool: https://dagshub.com:443 \"POST /crazy-bot/mlops-with-mlflow.mlflow/api/2.0/mlflow/model-versions/transition-stage HTTP/1.1\" 200 None]\n",
      "<ModelVersion: aliases=[], creation_timestamp=1691837035689, current_stage='None', description='', last_updated_timestamp=1691837035689, name='ElasticNet', run_id='25a51e77541a49eaa7510090793a622f', run_link='', source='mlflow-artifacts:/fc26881db9aa4a1f9db986531e56014f/25a51e77541a49eaa7510090793a622f/artifacts/model', status='READY', status_message='', tags={}, user_id='', version='3'>\n",
      "<ModelVersion: aliases=[], creation_timestamp=1691837010068, current_stage='None', description='', last_updated_timestamp=1691837010068, name='ElasticNet', run_id='f00d96f2bad741d0a76414bd7a0491ad', run_link='', source='mlflow-artifacts:/fc26881db9aa4a1f9db986531e56014f/f00d96f2bad741d0a76414bd7a0491ad/artifacts/model', status='READY', status_message='', tags={}, user_id='', version='2'>\n",
      "<ModelVersion: aliases=[], creation_timestamp=1691836414923, current_stage='None', description='', last_updated_timestamp=1691836414923, name='ElasticNet', run_id='9c8cf4935e7f4d38b3767230c6388e80', run_link='', source='mlflow-artifacts:/fc26881db9aa4a1f9db986531e56014f/9c8cf4935e7f4d38b3767230c6388e80/artifacts/model', status='READY', status_message='', tags={}, user_id='', version='1'>\n",
      "[2023-08-12 14:29:41,130: DEBUG: connectionpool: https://dagshub.com:443 \"GET /crazy-bot/mlops-with-mlflow.mlflow/api/2.0/mlflow-artifacts/artifacts?path=fc26881db9aa4a1f9db986531e56014f%2F72dd3a29b856452e81dc6cccf215df62%2Fartifacts%2Fmodel HTTP/1.1\" 200 None]\n",
      "[2023-08-12 14:29:41,412: DEBUG: connectionpool: https://dagshub.com:443 \"GET /crazy-bot/mlops-with-mlflow.mlflow/api/2.0/mlflow-artifacts/artifacts?path=fc26881db9aa4a1f9db986531e56014f%2F72dd3a29b856452e81dc6cccf215df62%2Fartifacts%2Fmodel HTTP/1.1\" 200 None]\n",
      "[2023-08-12 14:29:41,441: DEBUG: connectionpool: Starting new HTTPS connection (2): dagshub.com:443]\n",
      "[2023-08-12 14:29:41,450: DEBUG: connectionpool: Starting new HTTPS connection (3): dagshub.com:443]\n",
      "[2023-08-12 14:29:41,457: DEBUG: connectionpool: Starting new HTTPS connection (4): dagshub.com:443]\n",
      "[2023-08-12 14:29:41,465: DEBUG: connectionpool: Starting new HTTPS connection (5): dagshub.com:443]\n",
      "[2023-08-12 14:29:41,749: DEBUG: connectionpool: https://dagshub.com:443 \"GET /crazy-bot/mlops-with-mlflow.mlflow/api/2.0/mlflow-artifacts/artifacts/fc26881db9aa4a1f9db986531e56014f/72dd3a29b856452e81dc6cccf215df62/artifacts/model/conda.yaml HTTP/1.1\" 200 None]\n",
      "[2023-08-12 14:29:42,613: DEBUG: connectionpool: https://dagshub.com:443 \"GET /crazy-bot/mlops-with-mlflow.mlflow/api/2.0/mlflow-artifacts/artifacts/fc26881db9aa4a1f9db986531e56014f/72dd3a29b856452e81dc6cccf215df62/artifacts/model/MLmodel HTTP/1.1\" 200 None]\n",
      "[2023-08-12 14:29:42,618: DEBUG: connectionpool: https://dagshub.com:443 \"GET /crazy-bot/mlops-with-mlflow.mlflow/api/2.0/mlflow-artifacts/artifacts/fc26881db9aa4a1f9db986531e56014f/72dd3a29b856452e81dc6cccf215df62/artifacts/model/requirements.txt HTTP/1.1\" 200 None]\n",
      "[2023-08-12 14:29:42,637: DEBUG: connectionpool: https://dagshub.com:443 \"GET /crazy-bot/mlops-with-mlflow.mlflow/api/2.0/mlflow-artifacts/artifacts/fc26881db9aa4a1f9db986531e56014f/72dd3a29b856452e81dc6cccf215df62/artifacts/model/python_env.yaml HTTP/1.1\" 200 None]\n",
      "[2023-08-12 14:29:42,675: DEBUG: connectionpool: https://dagshub.com:443 \"GET /crazy-bot/mlops-with-mlflow.mlflow/api/2.0/mlflow-artifacts/artifacts/fc26881db9aa4a1f9db986531e56014f/72dd3a29b856452e81dc6cccf215df62/artifacts/model/model.pkl HTTP/1.1\" 200 None]\n"
     ]
    },
    {
     "data": {
      "text/plain": [
       "['artifacts\\\\prodmodel.joblib']"
      ]
     },
     "execution_count": 5,
     "metadata": {},
     "output_type": "execute_result"
    }
   ],
   "source": [
    "from mlProject.config.configuration import ConfigurationManager\n",
    "import argparse\n",
    "import mlflow\n",
    "from mlflow.tracking import MlflowClient\n",
    "from pprint import pprint\n",
    "import joblib\n",
    "import os\n",
    "from dotenv import load_dotenv\n",
    "load_dotenv()\n",
    "\n",
    "model_name = \"ElasticNet\"\n",
    "mlflow.set_tracking_uri(os.getenv(\"MLFLOW_TRACKING_URI\"))\n",
    "mlflow.get_tracking_uri()\n",
    "#exp = mlflow.get_experiment_by_name(\"Default\")\n",
    "runs = mlflow.search_runs(experiment_ids=[\"0\"])\n",
    "lowest_mse = runs[\"metrics.mean_squared_error\"].sort_values(ascending=True)[0]\n",
    "lowest_run_id = runs[runs[\"metrics.mean_squared_error\"] == lowest_mse][\"run_id\"][0]\n",
    "client = MlflowClient()\n",
    "for mv in client.search_model_versions(f\"name='{model_name}'\"):\n",
    "    print(mv)\n",
    "    if mv.run_id == lowest_run_id:\n",
    "        cur_version = mv.version\n",
    "        logged_model = mv.source\n",
    "        pprint(mv, indent=4)\n",
    "        client.transition_model_version_stage(\n",
    "            name=model_name,\n",
    "            version=cur_version,\n",
    "            stage=\"Production\"\n",
    "        )\n",
    "loaded_model = mlflow.pyfunc.load_model(logged_model)\n",
    "joblib.dump(loaded_model, os.path.join(\"artifacts\", \"prodmodel.joblib\"))\n",
    "\n",
    "\n",
    "    "
   ]
  }
 ],
 "metadata": {
  "kernelspec": {
   "display_name": "mlops",
   "language": "python",
   "name": "python3"
  },
  "language_info": {
   "codemirror_mode": {
    "name": "ipython",
    "version": 3
   },
   "file_extension": ".py",
   "mimetype": "text/x-python",
   "name": "python",
   "nbconvert_exporter": "python",
   "pygments_lexer": "ipython3",
   "version": "3.10.12"
  },
  "orig_nbformat": 4
 },
 "nbformat": 4,
 "nbformat_minor": 2
}
