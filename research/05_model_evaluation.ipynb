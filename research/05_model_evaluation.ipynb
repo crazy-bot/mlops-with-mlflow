{
 "cells": [
  {
   "cell_type": "code",
   "execution_count": 31,
   "metadata": {},
   "outputs": [
    {
     "data": {
      "text/plain": [
       "'C:\\\\Users\\\\SGU\\\\Projects\\\\mlops-with-mlflow'"
      ]
     },
     "execution_count": 31,
     "metadata": {},
     "output_type": "execute_result"
    }
   ],
   "source": [
    "import os\n",
    "%pwd"
   ]
  },
  {
   "cell_type": "code",
   "execution_count": 32,
   "metadata": {},
   "outputs": [
    {
     "data": {
      "text/plain": [
       "'C:\\\\Users\\\\SGU\\\\Projects\\\\mlops-with-mlflow'"
      ]
     },
     "execution_count": 32,
     "metadata": {},
     "output_type": "execute_result"
    }
   ],
   "source": [
    "os.chdir(r\"C:\\Users\\SGU\\Projects\\mlops-with-mlflow\")\n",
    "%pwd"
   ]
  },
  {
   "cell_type": "code",
   "execution_count": 33,
   "metadata": {},
   "outputs": [
    {
     "data": {
      "text/plain": [
       "'https'"
      ]
     },
     "execution_count": 33,
     "metadata": {},
     "output_type": "execute_result"
    }
   ],
   "source": [
    "import mlflow\n",
    "from urllib.parse import urlparse\n",
    "mlflow.get_tracking_uri()\n",
    "tracking_url_type_store = urlparse(mlflow.get_tracking_uri()).scheme\n",
    "tracking_url_type_store"
   ]
  },
  {
   "cell_type": "code",
   "execution_count": 34,
   "metadata": {},
   "outputs": [
    {
     "data": {
      "text/plain": [
       "True"
      ]
     },
     "execution_count": 34,
     "metadata": {},
     "output_type": "execute_result"
    }
   ],
   "source": [
    "from dotenv import load_dotenv\n",
    "load_dotenv()"
   ]
  },
  {
   "cell_type": "code",
   "execution_count": 35,
   "metadata": {},
   "outputs": [
    {
     "data": {
      "text/plain": [
       "'https://dagshub.com/crazy-bot/mlops-with-mlflow.mlflow'"
      ]
     },
     "execution_count": 35,
     "metadata": {},
     "output_type": "execute_result"
    }
   ],
   "source": [
    "os.getenv(\"MLFLOW_TRACKING_URI\")"
   ]
  },
  {
   "cell_type": "code",
   "execution_count": 36,
   "metadata": {},
   "outputs": [],
   "source": [
    "from dataclasses import dataclass\n",
    "from pathlib import Path\n",
    "@dataclass(frozen=True)\n",
    "class ModelEvaluationConfig:\n",
    "    root_dir: Path\n",
    "    test_data_path: Path\n",
    "    model_path: Path\n",
    "    metric_file: Path\n",
    "    all_params: dict\n",
    "    target_column: str\n",
    "    mlflow_uri: str"
   ]
  },
  {
   "cell_type": "code",
   "execution_count": 37,
   "metadata": {},
   "outputs": [],
   "source": [
    "from mlProject.utils.constants import CONFIG_FILE_PATH, SCHEMA_FILE_PATH, PARAMS_FILE_PATH\n",
    "from mlProject.utils.common import read_yaml, create_directories\n",
    "\n",
    "class ConfigurationManager:\n",
    "    def __init__(self) -> None:\n",
    "        self.config = read_yaml(CONFIG_FILE_PATH)\n",
    "        self.schema = read_yaml(SCHEMA_FILE_PATH)\n",
    "        self.params = read_yaml(PARAMS_FILE_PATH)\n",
    "        \n",
    "        print(self.config)\n",
    "        create_directories([self.config.artifacts_root])\n",
    "        \n",
    "    def get_model_evaluation_config(self) -> ModelEvaluationConfig:\n",
    "        config = self.config.model_evaluation\n",
    "        params = self.params.ElasticNet\n",
    "        schema = self.schema.target_columns\n",
    "        \n",
    "        create_directories([config.root_dir])\n",
    "        return ModelEvaluationConfig(\n",
    "            config.root_dir,\n",
    "            config.test_data_path,\n",
    "            config.model_path,\n",
    "            config.metric_file,\n",
    "            params,\n",
    "            schema.name,\n",
    "            mlflow_uri=os.getenv(\"MLFLOW_TRACKING_URI\")\n",
    "        )"
   ]
  },
  {
   "cell_type": "code",
   "execution_count": 38,
   "metadata": {},
   "outputs": [],
   "source": [
    "\n",
    "\n",
    "from sklearn.metrics import mean_absolute_error, mean_squared_error, r2_score\n",
    "from urllib.parse import urlparse\n",
    "import mlflow\n",
    "import pandas as pd\n",
    "import os\n",
    "from mlProject.utils.common import load_bin, save_json\n",
    "\n",
    "class ModelEvaluation:\n",
    "    def __init__(self, config: ModelEvaluationConfig) -> None:\n",
    "        self.config = config\n",
    "        \n",
    "    def eval_metrics(self, gt_y, pred_y):\n",
    "        mae = mean_absolute_error(gt_y, pred_y)\n",
    "        mse = mean_squared_error(gt_y, pred_y)\n",
    "        r2 = r2_score(gt_y, pred_y)\n",
    "        return mae, mse, r2\n",
    "    \n",
    "    def log_in_mlflow(self):\n",
    "        test_data = pd.read_csv(self.config.test_data_path)\n",
    "        test_x = test_data.drop([self.config.target_column], axis=1)\n",
    "        test_y = test_data[[self.config.target_column]]\n",
    "        \n",
    "        model = load_bin(self.config.model_path)\n",
    "        \n",
    "        mlflow.set_tracking_uri(self.config.mlflow_uri)\n",
    "        tracking_url_type_store = urlparse(mlflow.get_tracking_uri()).scheme\n",
    "        \n",
    "        with mlflow.start_run():\n",
    "            pred_y = model.predict(test_x)\n",
    "            mae, mse, r2 = self.eval_metrics(test_y, pred_y)\n",
    "            \n",
    "            # save metrics in local metric file\n",
    "            scores = {\"mean_absolute_error\": mae, \"mean_squared_error\": mse, \"r2_score\": r2}\n",
    "            save_json(os.path.join(self.config.root_dir, self.config.metric_file), scores)\n",
    "            \n",
    "            # track in mlflow\n",
    "            mlflow.log_params(self.config.all_params)\n",
    "            mlflow.log_metrics(scores)\n",
    "            \n",
    "            if tracking_url_type_store != \"file\":\n",
    "                # log and register in remote server\n",
    "                mlflow.sklearn.log_model(model, \"model\", registered_model_name=\"ElasticNet\")\n",
    "            else:\n",
    "                # log model in local\n",
    "                mlflow.sklearn.log_model(model, \"model\")\n",
    "        "
   ]
  },
  {
   "cell_type": "code",
   "execution_count": 39,
   "metadata": {},
   "outputs": [
    {
     "name": "stdout",
     "output_type": "stream",
     "text": [
      "[2023-08-12 12:33:27,231: INFO: common: yaml file: config\\config.yaml loaded successfully]\n",
      "[2023-08-12 12:33:27,235: INFO: common: yaml file: schema.yaml loaded successfully]\n",
      "[2023-08-12 12:33:27,239: INFO: common: yaml file: params.yaml loaded successfully]\n",
      "{'artifacts_root': 'artifacts', 'data_ingestion': {'root_dir': 'artifacts/data_ingestion', 'source_url': 'https://github.com/entbappy/Branching-tutorial/raw/master/winequality-data.zip', 'local_data_file': 'artifacts/data_ingestion/data.zip', 'unzip_dir': 'artifacts/data_ingestion'}, 'data_validation': {'root_dir': 'artifacts/data_validation', 'unzip_data_path': 'artifacts/data_ingestion/winequality-red.csv', 'status_file': 'artifacts/data_validation/status.txt'}, 'data_transformation': {'root_dir': 'artifacts/data_transformation', 'data_path': 'artifacts/data_ingestion/winequality-red.csv'}, 'model_trainer': {'root_dir': 'artifacts/model_trainer', 'train_data_path': 'artifacts/data_transformation/train.csv', 'test_data_path': 'artifacts/data_transformation/test.csv', 'model_name': 'model.joblib'}, 'model_evaluation': {'root_dir': 'artifacts/model_evaluation', 'test_data_path': 'artifacts/data_transformation/test.csv', 'model_path': 'artifacts/model_trainer/model.joblib', 'metric_file': 'metric.json'}}\n",
      "[2023-08-12 12:33:27,242: INFO: common: created directory: artifacts]\n",
      "[2023-08-12 12:33:27,244: INFO: common: created directory: artifacts\\model_evaluation]\n",
      "[2023-08-12 12:33:27,254: INFO: common: bin file: artifacts/model_trainer/model.joblib loaded successfully]\n"
     ]
    },
    {
     "name": "stdout",
     "output_type": "stream",
     "text": [
      "[2023-08-12 12:33:27,547: DEBUG: connectionpool: https://dagshub.com:443 \"POST /crazy-bot/mlops-with-mlflow.mlflow/api/2.0/mlflow/runs/create HTTP/1.1\" 200 None]\n",
      "[2023-08-12 12:33:27,563: INFO: common: json file: artifacts/model_evaluation\\metric.json dumped successfully]\n",
      "[2023-08-12 12:33:27,803: DEBUG: connectionpool: https://dagshub.com:443 \"POST /crazy-bot/mlops-with-mlflow.mlflow/api/2.0/mlflow/runs/log-batch HTTP/1.1\" 200 None]\n",
      "[2023-08-12 12:33:28,022: DEBUG: connectionpool: https://dagshub.com:443 \"POST /crazy-bot/mlops-with-mlflow.mlflow/api/2.0/mlflow/runs/log-batch HTTP/1.1\" 200 None]\n"
     ]
    },
    {
     "name": "stderr",
     "output_type": "stream",
     "text": [
      "2023/08/12 12:33:33 WARNING mlflow.utils.environment: Encountered an unexpected error while inferring pip requirements (model URI: C:\\Users\\SGU\\AppData\\Local\\Temp\\tmpf2gsn9f3\\model\\model.pkl, flavor: sklearn), fall back to return ['scikit-learn==1.3.0', 'cloudpickle==2.2.1']. Set logging level to DEBUG to see the full traceback.\n"
     ]
    },
    {
     "name": "stdout",
     "output_type": "stream",
     "text": [
      "[2023-08-12 12:33:33,376: DEBUG: connectionpool: https://dagshub.com:443 \"GET /crazy-bot/mlops-with-mlflow.mlflow/api/2.0/mlflow/runs/get?run_uuid=9c8cf4935e7f4d38b3767230c6388e80&run_id=9c8cf4935e7f4d38b3767230c6388e80 HTTP/1.1\" 200 None]\n",
      "[2023-08-12 12:33:33,746: DEBUG: connectionpool: https://dagshub.com:443 \"PUT /crazy-bot/mlops-with-mlflow.mlflow/api/2.0/mlflow-artifacts/artifacts/fc26881db9aa4a1f9db986531e56014f/9c8cf4935e7f4d38b3767230c6388e80/artifacts/model/conda.yaml HTTP/1.1\" 200 None]\n",
      "[2023-08-12 12:33:34,071: DEBUG: connectionpool: https://dagshub.com:443 \"PUT /crazy-bot/mlops-with-mlflow.mlflow/api/2.0/mlflow-artifacts/artifacts/fc26881db9aa4a1f9db986531e56014f/9c8cf4935e7f4d38b3767230c6388e80/artifacts/model/MLmodel HTTP/1.1\" 200 None]\n",
      "[2023-08-12 12:33:34,479: DEBUG: connectionpool: https://dagshub.com:443 \"PUT /crazy-bot/mlops-with-mlflow.mlflow/api/2.0/mlflow-artifacts/artifacts/fc26881db9aa4a1f9db986531e56014f/9c8cf4935e7f4d38b3767230c6388e80/artifacts/model/model.pkl HTTP/1.1\" 200 None]\n",
      "[2023-08-12 12:33:34,827: DEBUG: connectionpool: https://dagshub.com:443 \"PUT /crazy-bot/mlops-with-mlflow.mlflow/api/2.0/mlflow-artifacts/artifacts/fc26881db9aa4a1f9db986531e56014f/9c8cf4935e7f4d38b3767230c6388e80/artifacts/model/python_env.yaml HTTP/1.1\" 200 None]\n",
      "[2023-08-12 12:33:35,728: DEBUG: connectionpool: https://dagshub.com:443 \"PUT /crazy-bot/mlops-with-mlflow.mlflow/api/2.0/mlflow-artifacts/artifacts/fc26881db9aa4a1f9db986531e56014f/9c8cf4935e7f4d38b3767230c6388e80/artifacts/model/requirements.txt HTTP/1.1\" 200 None]\n",
      "[2023-08-12 12:33:35,912: DEBUG: connectionpool: https://dagshub.com:443 \"POST /crazy-bot/mlops-with-mlflow.mlflow/api/2.0/mlflow/runs/log-model HTTP/1.1\" 200 None]\n",
      "[2023-08-12 12:33:36,147: DEBUG: connectionpool: https://dagshub.com:443 \"POST /crazy-bot/mlops-with-mlflow.mlflow/api/2.0/mlflow/registered-models/create HTTP/1.1\" 200 None]\n",
      "[2023-08-12 12:33:36,338: DEBUG: connectionpool: https://dagshub.com:443 \"GET /crazy-bot/mlops-with-mlflow.mlflow/api/2.0/mlflow/runs/get?run_uuid=9c8cf4935e7f4d38b3767230c6388e80&run_id=9c8cf4935e7f4d38b3767230c6388e80 HTTP/1.1\" 200 None]\n"
     ]
    },
    {
     "name": "stderr",
     "output_type": "stream",
     "text": [
      "Successfully registered model 'ElasticNet'.\n"
     ]
    },
    {
     "name": "stdout",
     "output_type": "stream",
     "text": [
      "[2023-08-12 12:33:36,533: DEBUG: connectionpool: https://dagshub.com:443 \"POST /crazy-bot/mlops-with-mlflow.mlflow/api/2.0/mlflow/model-versions/create HTTP/1.1\" 200 None]\n"
     ]
    },
    {
     "name": "stderr",
     "output_type": "stream",
     "text": [
      "2023/08/12 12:33:36 INFO mlflow.tracking._model_registry.client: Waiting up to 300 seconds for model version to finish creation. Model name: ElasticNet, version 1\n",
      "Created version '1' of model 'ElasticNet'.\n"
     ]
    },
    {
     "name": "stdout",
     "output_type": "stream",
     "text": [
      "[2023-08-12 12:33:36,749: DEBUG: connectionpool: https://dagshub.com:443 \"POST /crazy-bot/mlops-with-mlflow.mlflow/api/2.0/mlflow/runs/update HTTP/1.1\" 200 None]\n"
     ]
    }
   ],
   "source": [
    "try:\n",
    "    cfg_mgr = ConfigurationManager()\n",
    "    model_eval_config = cfg_mgr.get_model_evaluation_config()\n",
    "    model_evaluator = ModelEvaluation(model_eval_config)\n",
    "    model_evaluator.log_in_mlflow()\n",
    "except Exception as e:\n",
    "    raise e"
   ]
  }
 ],
 "metadata": {
  "kernelspec": {
   "display_name": "mlops",
   "language": "python",
   "name": "python3"
  },
  "language_info": {
   "codemirror_mode": {
    "name": "ipython",
    "version": 3
   },
   "file_extension": ".py",
   "mimetype": "text/x-python",
   "name": "python",
   "nbconvert_exporter": "python",
   "pygments_lexer": "ipython3",
   "version": "3.10.12"
  },
  "orig_nbformat": 4
 },
 "nbformat": 4,
 "nbformat_minor": 2
}
